{
 "cells": [
  {
   "cell_type": "code",
   "execution_count": 9,
   "metadata": {},
   "outputs": [
    {
     "name": "stdout",
     "output_type": "stream",
     "text": [
      "17 0.002 [[0, 0.52, 50], [1, 0.6, 5], [2, 0.52, 5], [3, 0.6, 5], [4, 0.52, 5], [5, 0.6, 5], [6, 0.92, 10], [7, 0.52, 10], [8, 0.6, 10], [9, 0.68, 10], [10, 0.52, 50], [11, 0.76, 100], [12, 0.52, 100], [13, 0.52, 100], [14, 0.68, 1000], [15, 0.52, 1000], [16, 0.52, 1000]]\n"
     ]
    }
   ],
   "source": [
    "import numpy as np\n",
    "import math\n",
    "with open('input.dat', 'r') as file:\n",
    "    text = file.read()\n",
    "x = text.split('\\n')\n",
    "\n",
    "num = int(x[0])\n",
    "tau = float(x[1])\n",
    "x = x[2:-1]\n",
    "data = []\n",
    "for line in x:\n",
    "    data.append(line.split(' '))\n",
    "for i in range(10):  # delete unused space caused by split\n",
    "    data[i] = data[i][1:]\n",
    "for i in range(num):\n",
    "    data[i][0] = int(data[i][0])\n",
    "    data[i][1] = float(data[i][1])\n",
    "    data[i][2] = int(data[i][2])\n",
    "print(num, tau, data)"
   ]
  },
  {
   "cell_type": "code",
   "execution_count": 8,
   "metadata": {},
   "outputs": [
    {
     "name": "stdout",
     "output_type": "stream",
     "text": [
      "Worst-case response time of 0: 1.44\n",
      "Worst-case response time of 1: 2.04\n",
      "Worst-case response time of 2: 2.56\n",
      "Worst-case response time of 3: 3.16\n",
      "Worst-case response time of 4: 3.68\n",
      "Worst-case response time of 5: 4.28\n",
      "Worst-case response time of 6: 5.20\n",
      "Worst-case response time of 7: 7.88\n",
      "Worst-case response time of 8: 8.48\n",
      "Worst-case response time of 9: 9.16\n",
      "Worst-case response time of 10: 9.68\n",
      "Worst-case response time of 11: 10.44\n",
      "Worst-case response time of 12: 18.24\n",
      "Worst-case response time of 13: 18.76\n",
      "Worst-case response time of 14: 19.44\n",
      "Worst-case response time of 15: 19.80\n",
      "System not schedulable\n"
     ]
    }
   ],
   "source": [
    "B = [0] * num\n",
    "C = [0] * num\n",
    "Q = [0] * num\n",
    "R = [0] * num\n",
    "wrong = False\n",
    "for i in range(num):\n",
    "    #find B_i from same to smaller priority(bigger i)\n",
    "    for j in range(i, num):\n",
    "        if data[j][1] >  B[i]:\n",
    "            B[i] = data[j][1]\n",
    "            \n",
    "    # Q_i = B_i\n",
    "    Q[i] = B[i]\n",
    "    \n",
    "    # find RHS(right hand side) \n",
    "    while True:\n",
    "        r_sum = 0\n",
    "        if i > 0:\n",
    "            for j in range(0, i):\n",
    "                r_sum += math.ceil((Q[i]+tau)/data[j][2])*data[j][1]\n",
    "        RHS = B[i] + r_sum\n",
    "\n",
    "        if RHS+data[i][1] > data[i][2]:\n",
    "            print('System not schedulable')\n",
    "            wrong = True\n",
    "            break\n",
    "        if Q[i] == RHS:\n",
    "            R[i] = Q[i] + data[i][1]\n",
    "            print('Worst-case response time of {}: {:.2f}'.format(i, R[i]))\n",
    "            break\n",
    "        else:\n",
    "            Q[i] = RHS\n",
    "    \n",
    "    if wrong == True:\n",
    "        break\n",
    "    \n",
    "    "
   ]
  },
  {
   "cell_type": "code",
   "execution_count": null,
   "metadata": {},
   "outputs": [],
   "source": []
  }
 ],
 "metadata": {
  "kernelspec": {
   "display_name": "Python 3",
   "language": "python",
   "name": "python3"
  },
  "language_info": {
   "codemirror_mode": {
    "name": "ipython",
    "version": 3
   },
   "file_extension": ".py",
   "mimetype": "text/x-python",
   "name": "python",
   "nbconvert_exporter": "python",
   "pygments_lexer": "ipython3",
   "version": "3.9.2"
  }
 },
 "nbformat": 4,
 "nbformat_minor": 4
}
