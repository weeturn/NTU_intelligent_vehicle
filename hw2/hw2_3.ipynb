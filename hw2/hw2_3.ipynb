{
 "cells": [
  {
   "cell_type": "code",
   "execution_count": 5,
   "metadata": {},
   "outputs": [],
   "source": [
    "import numpy as np\n",
    "import math\n",
    "with open('input.dat', 'r') as file:\n",
    "    text = file.read()\n",
    "x = text.split('\\n')\n",
    "\n",
    "num = int(x[0])\n",
    "tau = float(x[1])\n",
    "x = x[2:-1]\n",
    "data = []\n",
    "for line in x:\n",
    "    data.append(line.split(' '))\n",
    "for i in range(10):  # delete unused space caused by split\n",
    "    data[i] = data[i][1:]\n",
    "for i in range(num):\n",
    "    data[i][0] = int(data[i][0])\n",
    "    data[i][1] = float(data[i][1])\n",
    "    data[i][2] = int(data[i][2])\n",
    "#print(num, tau, data)\n",
    "data = np.copy(data)"
   ]
  },
  {
   "cell_type": "code",
   "execution_count": 6,
   "metadata": {},
   "outputs": [],
   "source": [
    "def SumWorstResponse(num, tau, data):\n",
    "    response_sum = 0\n",
    "    B = [0] * num\n",
    "    C = [0] * num\n",
    "    Q = [0] * num\n",
    "    R = [0] * num\n",
    "    wrong = False\n",
    "    for i in range(num):\n",
    "        #find B_i from same to smaller priority(bigger i)\n",
    "        for j in range(num):\n",
    "            if data[j][0] >= data[i][0]:\n",
    "                if data[j][1] >  B[i]:\n",
    "                    B[i] = data[j][1]\n",
    "        Q[i] = B[i]\n",
    "\n",
    "        # find RHS(right hand side) \n",
    "        while True:\n",
    "            r_sum = 0\n",
    "            for j in range(num):\n",
    "                if data[j][0] < data[i][0]:\n",
    "                    r_sum += math.ceil((Q[i]+tau)/data[j][2])*data[j][1]\n",
    "            RHS = B[i] + r_sum\n",
    "\n",
    "            if RHS+data[i][1] > data[i][2]:\n",
    "                #print('System not schedulable')\n",
    "                response_sum = 5999\n",
    "                wrong = True\n",
    "                break\n",
    "            if Q[i] == RHS:\n",
    "                R[i] = Q[i] + data[i][1]\n",
    "                #print('Worst-case response time of {}: {:.2f}'.format(i, R[i]))\n",
    "                response_sum += R[i]\n",
    "                break\n",
    "            else:\n",
    "                Q[i] = RHS\n",
    "        if wrong == True:\n",
    "            break\n",
    "    #print(\"Current sum: \", response_sum)\n",
    "    return response_sum"
   ]
  },
  {
   "cell_type": "code",
   "execution_count": 7,
   "metadata": {},
   "outputs": [],
   "source": [
    "def SwapPriority(data):\n",
    "    new_data = np.copy(data)\n",
    "    c1, c2 = np.random.randint(17), np.random.randint(17)\n",
    "    #print(\"change \", c1, c2)\n",
    "    new_data[c1][0], new_data[c2][0] = data[c2][0], data[c1][0]\n",
    "    #print(\"New data: \", new_data[:,0])\n",
    "    return new_data"
   ]
  },
  {
   "cell_type": "code",
   "execution_count": 8,
   "metadata": {},
   "outputs": [
    {
     "name": "stdout",
     "output_type": "stream",
     "text": [
      "14\n",
      "6\n",
      "0\n",
      "4\n",
      "1\n",
      "3\n",
      "9\n",
      "2\n",
      "7\n",
      "5\n",
      "12\n",
      "16\n",
      "13\n",
      "10\n",
      "15\n",
      "11\n",
      "8\n",
      "Best sum:  204.75999999999996\n"
     ]
    }
   ],
   "source": [
    "# initial\n",
    "T = 1999\n",
    "r = 0.995\n",
    "cost_S = SumWorstResponse(num, tau, data)\n",
    "# S*\n",
    "S_star = data\n",
    "cost_S_star = cost_S\n",
    "\n",
    "while T > 1:\n",
    "    # random swap 2 priority\n",
    "    S_pron = SwapPriority(data)\n",
    "    # S'\n",
    "    cost_S_pron = SumWorstResponse(num, tau, S_pron)\n",
    "    delta_C = cost_S_pron - cost_S\n",
    "    if cost_S_pron < cost_S_star:\n",
    "        S_star = S_pron\n",
    "        cost_S_star = cost_S_pron\n",
    "    if delta_C <= 0:\n",
    "        data = S_pron\n",
    "    else:\n",
    "        p = math.exp(-delta_C/T)\n",
    "        #print(p)\n",
    "        if np.random.rand() < p:\n",
    "            #print(\"Cost bigger but swap\")\n",
    "            data = S_pron\n",
    "    #print(data[:,0])\n",
    "    #print(\"Best sum: \", cost_S_star)\n",
    "    T = r*T\n",
    "for k in range(17):\n",
    "    print(int(S_star[k][0]))\n",
    "print(\"Best sum: \", cost_S_star)"
   ]
  },
  {
   "cell_type": "code",
   "execution_count": null,
   "metadata": {},
   "outputs": [],
   "source": []
  }
 ],
 "metadata": {
  "kernelspec": {
   "display_name": "Python 3",
   "language": "python",
   "name": "python3"
  },
  "language_info": {
   "codemirror_mode": {
    "name": "ipython",
    "version": 3
   },
   "file_extension": ".py",
   "mimetype": "text/x-python",
   "name": "python",
   "nbconvert_exporter": "python",
   "pygments_lexer": "ipython3",
   "version": "3.9.2"
  }
 },
 "nbformat": 4,
 "nbformat_minor": 4
}
